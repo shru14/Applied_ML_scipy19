{
 "cells": [
  {
   "cell_type": "markdown",
   "metadata": {},
   "source": [
    "Generating a mandelbrot set "
   ]
  },
  {
   "cell_type": "code",
   "execution_count": 2,
   "metadata": {},
   "outputs": [],
   "source": [
    "%matplotlib inline\n",
    "import matplotlib.pyplot as plt\n",
    "from PIL import Image\n",
    "from numpy import complex\n",
    "import math\n",
    "\n",
    "WIDTH = 500\n"
   ]
  },
  {
   "cell_type": "markdown",
   "metadata": {},
   "source": [
    "1. Pure Python"
   ]
  },
  {
   "cell_type": "code",
   "execution_count": 3,
   "metadata": {},
   "outputs": [],
   "source": [
    "def mandelbrot_pp(w):\n",
    "    def get_colour(x):\n",
    "        return (int(255*(1+math.cos(3.32*math.log(x)))/2),\n",
    "                int(255*(1+math.cos(0.774*math.log(x)))/2),\n",
    "                int(255*(1+math.cos(0.412*math.log(x)))/2))\n",
    "    pixels = [[(0, 0, 0) for j in range(w)] for i in range(w)]\n",
    "    for x in range(w):\n",
    "        for y in range(w):\n",
    "            pixels[x][y] = (0, 0, 0)\n",
    "            c0 = complex(3.0*x/w -2 , 3.0*y/w -1.5)\n",
    "            c = 0\n",
    "            for i in range(1, 1024):\n",
    "                if abs(c) > 2:\n",
    "                    pixels[x][y] = get_colour(i)\n",
    "                    break\n",
    "                c = c*c + c0\n",
    "    return pixels"
   ]
  },
  {
   "cell_type": "code",
   "execution_count": 4,
   "metadata": {},
   "outputs": [
    {
     "name": "stdout",
     "output_type": "stream",
     "text": [
      "Time reqd in seconds = 5.755230665206909\n"
     ]
    }
   ],
   "source": [
    "import time\n",
    "seconds0 = time.time()\n",
    "calcpixels = mandelbrot_pp(WIDTH)\n",
    "seconds1 = time.time()\n",
    "print(\"Time reqd in seconds =\", seconds1 - seconds0)"
   ]
  },
  {
   "cell_type": "code",
   "execution_count": 5,
   "metadata": {},
   "outputs": [
    {
     "data": {
      "text/plain": [
       "<matplotlib.image.AxesImage at 0x7ffb51e2b7f0>"
      ]
     },
     "execution_count": 5,
     "metadata": {},
     "output_type": "execute_result"
    },
    {
     "data": {
      "image/png": "[encoded data removed]",
      "text/plain": [
       "<Figure size 432x288 with 1 Axes>"
      ]
     },
     "metadata": {
      "needs_background": "light"
     },
     "output_type": "display_data"
    }
   ],
   "source": [
    "Img = Image.new('RGB', (WIDTH, WIDTH))\n",
    "pixels = Img.load()\n",
    "for x in range(Img.size[0]):\n",
    "    for y in range(Img.size[1]):\n",
    "        pixels[x, y] = calcpixels[x][y]\n",
    "plt.imshow(Img)\n",
    "    "
   ]
  },
  {
   "cell_type": "code",
   "execution_count": 6,
   "metadata": {},
   "outputs": [],
   "source": [
    "from numba import njit\n",
    "\n",
    "@njit\n",
    "def mandelbrot_nb(w):\n",
    "    def get_colour(x):\n",
    "        return (int(255*(1+math.cos(3.32*math.log(x)))/2),\n",
    "                int(255*(1+math.cos(0.774*math.log(x)))/2),\n",
    "                int(255*(1+math.cos(0.412*math.log(x)))/2))\n",
    "    pixels = [[(0, 0, 0) for j in range(w)] for i in range(w)]\n",
    "    for x in range(w):\n",
    "        for y in range(w):\n",
    "            pixels[x][y] = (0, 0, 0)\n",
    "            c0 = complex(3.0*x/w -2 , 3.0*y/w -1.5)\n",
    "            c = 0\n",
    "            for i in range(1, 1024):\n",
    "                if abs(c) > 2:\n",
    "                    pixels[x][y] = get_colour(i)\n",
    "                    break\n",
    "                c = c*c + c0\n",
    "    return pixels"
   ]
  },
  {
   "cell_type": "code",
   "execution_count": 7,
   "metadata": {},
   "outputs": [
    {
     "name": "stdout",
     "output_type": "stream",
     "text": [
      "Time reqd in seconds = 0.8364846706390381\n"
     ]
    }
   ],
   "source": [
    "import time\n",
    "seconds0 = time.time()\n",
    "calcpixels = mandelbrot_nb(WIDTH)\n",
    "seconds1 = time.time()\n",
    "print(\"Time reqd in seconds =\", seconds1 - seconds0)"
   ]
  },
  {
   "cell_type": "markdown",
   "metadata": {},
   "source": [
    "2. Exercise 2"
   ]
  },
  {
   "cell_type": "code",
   "execution_count": 8,
   "metadata": {},
   "outputs": [],
   "source": [
    "%matplotlib inline\n",
    "import numpy as np\n",
    "import time\n",
    "import matplotlib.pyplot as plt\n",
    "w = h = 10\n",
    "dx = dy = 0.1\n",
    "D = 4.0\n",
    "Tcool, Thot = 300.0, 700.0\n",
    "nx, ny = int(w/dx), int(h/dy)\n",
    "dx2, dy2 = dx*dx, dy*dy\n",
    "dt = dx2*dy2/(2*D*(dx2 + dy2))\n",
    "nsteps = 301\n",
    "def init_pp():\n",
    "    u0 = [[Tcool]*ny for _ in range(nx)]\n",
    "    for x in range(nx):\n",
    "        for y in range(ny):\n",
    "            if x==0 or y==0 or x==nx-1 or y==ny-1:\n",
    "                u0[x][y] = Thot\n",
    "    return u0\n",
    "def do_timestamp_purepy(u0):\n",
    "    u = [[Thot]*ny for _ in range(nx)]\n",
    "    for i in range(1, nx-1):\n",
    "        for j in range(1, ny-1):\n",
    "            uxx = u0[i+1][j] - 2*u0[i][j] + u0[i-1][j] /dx2\n",
    "            uyy = u0[i][j+1] - 2*u0[i][j] + u0[j][j-1] /dy2\n",
    "            u[i][j] = u[i][j] + dt * D* (uxx+uyy)\n",
    "    return u"
   ]
  },
  {
   "cell_type": "code",
   "execution_count": 9,
   "metadata": {},
   "outputs": [
    {
     "name": "stdout",
     "output_type": "stream",
     "text": [
      "Time reqd in seconds = 1.602823257446289\n"
     ]
    },
    {
     "data": {
      "text/plain": [
       "[<matplotlib.lines.Line2D at 0x7ffb3732d8d0>]"
      ]
     },
     "execution_count": 9,
     "metadata": {},
     "output_type": "execute_result"
    },
    {
     "data": {
      "image/png": "[encoded data removed]",
      "text/plain": [
       "<Figure size 432x288 with 1 Axes>"
      ]
     },
     "metadata": {
      "needs_background": "light"
     },
     "output_type": "display_data"
    }
   ],
   "source": [
    "seconds0 = time.time()\n",
    "u0 = init_pp()\n",
    "for n in range(nsteps):\n",
    "    u0 = do_timestamp_purepy(u0)\n",
    "seconds1 = time.time()\n",
    "\n",
    "print(\"Time reqd in seconds =\", seconds1 - seconds0)\n",
    "\n",
    "plt.plot(u0[51])"
   ]
  },
  {
   "cell_type": "code",
   "execution_count": 10,
   "metadata": {},
   "outputs": [],
   "source": [
    "from numba import njit\n",
    "\n",
    "def init():\n",
    "    u0 = Tcool*np.ones((nx, ny))\n",
    "    u0[:, 0] = Thot\n",
    "    u0[:, -1] = Thot\n",
    "    u0[0, :] = Thot\n",
    "    u0[-1, :] = Thot\n",
    "    return u0\n",
    "\n",
    "@njit\n",
    "def do_timestamp_nb(u0):\n",
    "    u = u0.copy()\n",
    "    for i in range(1, nx-1):\n",
    "        for j in range(1, ny-1):\n",
    "            uxx = u0[i+1][j] - 2*u0[i][j] + u0[i-1][j] /dx2\n",
    "            uyy = u0[i][j+1] - 2*u0[i][j] + u0[j][j-1] /dy2\n",
    "            u[i][j] = u[i][j] + dt * D* (uxx+uyy)\n",
    "    return u"
   ]
  },
  {
   "cell_type": "code",
   "execution_count": 11,
   "metadata": {},
   "outputs": [
    {
     "name": "stdout",
     "output_type": "stream",
     "text": [
      "Time reqd in seconds = 0.14946889877319336\n"
     ]
    }
   ],
   "source": [
    "import time\n",
    "seconds0 = time.time()\n",
    "u0 = init()\n",
    "for n in range(nsteps):\n",
    "    u0 = do_timestamp_nb(u0)\n",
    "seconds1 = time.time()\n",
    "print(\"Time reqd in seconds =\", seconds1 - seconds0)"
   ]
  },
  {
   "cell_type": "markdown",
   "metadata": {},
   "source": [
    "Exercise 3 -Kmeans"
   ]
  },
  {
   "cell_type": "code",
   "execution_count": 25,
   "metadata": {},
   "outputs": [],
   "source": [
    "%matplotlib inline\n",
    "from sklearn.cluster import KMeans\n",
    "df = pd.read_csv('/home/neil/scipy19/numba/dish.csv')\n",
    "kmeans = KMeans(n_clusters=10, init='random', max_iter=20).fit(df)"
   ]
  },
  {
   "cell_type": "code",
   "execution_count": 26,
   "metadata": {},
   "outputs": [
    {
     "data": {
      "text/plain": [
       "<BarContainer object of 10 artists>"
      ]
     },
     "execution_count": 26,
     "metadata": {},
     "output_type": "execute_result"
    },
    {
     "data": {
      "image/png": "[encoded data removed]",
      "text/plain": [
       "<Figure size 432x288 with 1 Axes>"
      ]
     },
     "metadata": {
      "needs_background": "light"
     },
     "output_type": "display_data"
    }
   ],
   "source": [
    "assignments = kmeans.labels_\n",
    "iterations = kmeans.n_iter_\n",
    "centroids = kmeans.cluster_centers_\n",
    "X, Y = np.unique(assignments, return_counts=True)\n",
    "plt.bar(X, Y)"
   ]
  },
  {
   "cell_type": "code",
   "execution_count": 28,
   "metadata": {},
   "outputs": [],
   "source": [
    "from numba.types import Tuple\n",
    "from numba import int8, int32, float64, prange\n",
    "\n",
    "def kmean_np(X, n_clusters, max_iter):\n",
    "    centroids = X[np.random.choice(np.arange(len(x)), n_clusters), :]\n",
    "    C = np.zeros(X.shape[0], dtype = np.int8)\n",
    "    for i in range(max_iter):\n",
    "        for x_i in range(X.shape[0]):\n",
    "            min_d = np.inf\n",
    "            for y_k in range(n_clusters):\n",
    "                d = np.dot(X[x_i, :]-centroids[y_k, :], X[x_i,:]-centroids)\n",
    "                if d < min_d:\n",
    "                    min_d = d\n",
    "                    C[x_i] = y_k\n",
    "        for k in range(n_clusters):\n",
    "            df_n = X[C==k]\n",
    "            centroids[k] = df_n.sum(axis=0)/len(df_n)\n",
    "                \n",
    "    return centroids, C"
   ]
  },
  {
   "cell_type": "code",
   "execution_count": null,
   "metadata": {},
   "outputs": [],
   "source": []
  }
 ],
 "metadata": {
  "kernelspec": {
   "display_name": "Python 3",
   "language": "python",
   "name": "python3"
  },
  "language_info": {
   "codemirror_mode": {
    "name": "ipython",
    "version": 3
   },
   "file_extension": ".py",
   "mimetype": "text/x-python",
   "name": "python",
   "nbconvert_exporter": "python",
   "pygments_lexer": "ipython3",
   "version": "3.7.3"
  }
 },
 "nbformat": 4,
 "nbformat_minor": 2
}
