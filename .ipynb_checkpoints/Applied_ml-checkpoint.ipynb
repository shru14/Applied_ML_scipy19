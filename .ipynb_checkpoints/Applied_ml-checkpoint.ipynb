{
 "cells": [
  {
   "cell_type": "code",
   "execution_count": 3,
   "metadata": {},
   "outputs": [],
   "source": [
    "import pandas as pd\n",
    "from sklearn.linear_model import LinearRegression\n",
    "from sklearn.preprocessing import StandardScaler\n",
    "from sklearn.neighbors import KNeighborsClassifier\n",
    "from sklearn.model_selection import train_test_split\n",
    "from mlxtend.preprocessing import TransactionEncoder\n",
    "from mlxtend.frequent_patterns import apriori"
   ]
  },
  {
   "cell_type": "code",
   "execution_count": 4,
   "metadata": {},
   "outputs": [],
   "source": [
    "df_dataset = pd.read_csv('/home/neil/Applied_ML_scipy19/assets/linregr/regr.csv')\n",
    "df_dataset.dtypes\n",
    "scaler = StandardScaler()\n",
    "df_xy = pd.DataFrame(scaler.fit_transform(df_dataset), columns = list(df_dataset.columns))\n",
    "X = df_xy.drop(\"Y house price of unit area\", axis=1).values\n",
    "Y = df_xy[[\"Y house price of unit area\"]].values\n",
    "X_train, X_test, y_train, y_test = train_test_split(X,\n",
    "                                                    Y,\n",
    "                                                    test_size = 0.2,\n",
    "                                                    random_state=1)\n",
    "model_reg = LinearRegression().fit(X_train, y_train)\n",
    "model_reg.intercept_\n",
    "model_reg.coef_\n",
    "model_reg.score(X_train, y_train)\n",
    "model_reg.score(X_test, y_test)\n",
    "y_pred = model_reg.predict(X_test)"
   ]
  },
  {
   "cell_type": "code",
   "execution_count": null,
   "metadata": {},
   "outputs": [],
   "source": [
    "df_basket = pd.read_csv('/home/neil/scipy19/scipy19/assets/apriori/baskets.csv')\n",
    "df_grp_basket = df_basket.groupby(['order_id'])['product_type'].apply('|'.join).reset_index()\n",
    "orders = [prods.split('|') for _, prods in df_grp_basket.values]\n",
    "te = TransactionEncoder()\n",
    "te_ary = te.fit(orders).transform(orders)\n",
    "df = pd.DataFrame(te_ary, columns = te.columns_)\n",
    "itemsets = apriori(df, min_support=0.1, use_colnames=True).sort_values(by=\"support\", ascending = False)"
   ]
  },
  {
   "cell_type": "code",
   "execution_count": null,
   "metadata": {},
   "outputs": [],
   "source": [
    "df_risk = pd.read_csv('/home/neil/scipy19/scipy19/assets/creditrisk/risk.csv')\n",
    "df_risk = df_risk.replace('?', pd.NaT)\n",
    "df_risk = df_risk.dropna()\n",
    "df_risk.dtypes"
   ]
  },
  {
   "cell_type": "code",
   "execution_count": null,
   "metadata": {},
   "outputs": [],
   "source": [
    "df_risk['Male'] = df_risk['Male'].astype('category')\n",
    "df_risk['Age'] = df_risk['Age'].astype('category')\n",
    "df_risk['PriorDefault'] = df_risk['PriorDefault'].astype('category')\n",
    "df_risk['Employed'] = df_risk['Employed'].astype('category')\n",
    "df_risk['DriversLicense'] = df_risk['DriversLicense'].astype('category')\n",
    "df_risk['Approved'] = df_risk['Approved'].astype('category')"
   ]
  },
  {
   "cell_type": "code",
   "execution_count": null,
   "metadata": {},
   "outputs": [],
   "source": [
    "cat_cols = df_risk.select_dtypes(['category']).columns\n",
    "df_xy = df_risk.copy()"
   ]
  },
  {
   "cell_type": "code",
   "execution_count": null,
   "metadata": {},
   "outputs": [],
   "source": [
    "df_xy[cat_cols] = df_xy[cat_cols].apply(lambda x: x.cat.codes)"
   ]
  },
  {
   "cell_type": "code",
   "execution_count": null,
   "metadata": {},
   "outputs": [],
   "source": [
    "X, y = df_xy.drop([\"Approved\"], axis=1).values, df_xy[\"Approved\"].values"
   ]
  },
  {
   "cell_type": "code",
   "execution_count": null,
   "metadata": {},
   "outputs": [],
   "source": [
    "X_train, X_test, y_train, y_test = train_test_split(X,\n",
    "                                                    y,\n",
    "                                                    test_size = 0.2,\n",
    "                                                    random_state=1)\n",
    "model = KNeighborsClassifier()\n",
    "model.fit(X_train, y_train.ravel())\n",
    "y_pred = model.predict(X_test)\n",
    "model.score(X_test, y_pred)"
   ]
  }
 ],
 "metadata": {
  "kernelspec": {
   "display_name": "Python 3",
   "language": "python",
   "name": "python3"
  },
  "language_info": {
   "codemirror_mode": {
    "name": "ipython",
    "version": 3
   },
   "file_extension": ".py",
   "mimetype": "text/x-python",
   "name": "python",
   "nbconvert_exporter": "python",
   "pygments_lexer": "ipython3",
   "version": "3.7.3"
  }
 },
 "nbformat": 4,
 "nbformat_minor": 2
}
